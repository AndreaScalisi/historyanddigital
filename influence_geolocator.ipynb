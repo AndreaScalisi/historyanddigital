{
 "cells": [
  {
   "cell_type": "code",
   "execution_count": 45,
   "metadata": {},
   "outputs": [],
   "source": [
    "import pandas as pd\n",
    "from geopy.geocoders import Nominatim"
   ]
  },
  {
   "cell_type": "code",
   "execution_count": 46,
   "metadata": {},
   "outputs": [],
   "source": [
    "influence_df = pd.read_csv(\"data/influence.csv\").drop(\"Unnamed: 6\", axis = 1)"
   ]
  },
  {
   "cell_type": "code",
   "execution_count": 47,
   "metadata": {},
   "outputs": [],
   "source": [
    "names_df = influence_df.applymap(lambda text : text.replace(\"http://webprotege.stanford.edu/\",\"\").replace(\"%C3%A8\",\"è\").strip(\" \").strip('\"'))"
   ]
  },
  {
   "cell_type": "code",
   "execution_count": 48,
   "metadata": {},
   "outputs": [
    {
     "data": {
      "text/html": [
       "<div>\n",
       "<style scoped>\n",
       "    .dataframe tbody tr th:only-of-type {\n",
       "        vertical-align: middle;\n",
       "    }\n",
       "\n",
       "    .dataframe tbody tr th {\n",
       "        vertical-align: top;\n",
       "    }\n",
       "\n",
       "    .dataframe thead th {\n",
       "        text-align: right;\n",
       "    }\n",
       "</style>\n",
       "<table border=\"1\" class=\"dataframe\">\n",
       "  <thead>\n",
       "    <tr style=\"text-align: right;\">\n",
       "      <th></th>\n",
       "      <th>\"previous_event\"</th>\n",
       "      <th>\"first_link_place\"</th>\n",
       "      <th>\"event\"</th>\n",
       "      <th>\"event_place\"</th>\n",
       "      <th>\"influenced_event\"</th>\n",
       "      <th>\"second_link_place\"</th>\n",
       "    </tr>\n",
       "  </thead>\n",
       "  <tbody>\n",
       "    <tr>\n",
       "      <th>0</th>\n",
       "      <td></td>\n",
       "      <td></td>\n",
       "      <td>Purchase_Eisenlohr_Wheatstone</td>\n",
       "      <td>Karlsruhe</td>\n",
       "      <td>Meeting_Hipp_Eisenlohr</td>\n",
       "      <td>Karlsruhe</td>\n",
       "    </tr>\n",
       "    <tr>\n",
       "      <th>1</th>\n",
       "      <td>Purchase_Eisenlohr_Wheatstone</td>\n",
       "      <td>Karlsruhe</td>\n",
       "      <td>Meeting_Hipp_Eisenlohr</td>\n",
       "      <td>Karlsruhe</td>\n",
       "      <td>Creation_Hipp_Chronoscope</td>\n",
       "      <td>Neuchatel</td>\n",
       "    </tr>\n",
       "    <tr>\n",
       "      <th>2</th>\n",
       "      <td>Meeting_Hipp_Eisenlohr</td>\n",
       "      <td>Karlsruhe</td>\n",
       "      <td>Creation_Hipp_Chronoscope</td>\n",
       "      <td>Neuchatel</td>\n",
       "      <td>Borrow_Hirsch_Hipp</td>\n",
       "      <td>Neuchatel</td>\n",
       "    </tr>\n",
       "    <tr>\n",
       "      <th>3</th>\n",
       "      <td>Creation_Hipp_Chronoscope</td>\n",
       "      <td>Neuchatel</td>\n",
       "      <td>Borrow_Hirsch_Hipp</td>\n",
       "      <td>Neuchatel</td>\n",
       "      <td>Publication_Hirsch_Wundt</td>\n",
       "      <td>Neuchatel</td>\n",
       "    </tr>\n",
       "    <tr>\n",
       "      <th>4</th>\n",
       "      <td>Borrow_Hirsch_Hipp</td>\n",
       "      <td>Neuchatel</td>\n",
       "      <td>Publication_Hirsch_Wundt</td>\n",
       "      <td>Neuchatel</td>\n",
       "      <td>Letter_Wundt_Claparède</td>\n",
       "      <td>Leipzig</td>\n",
       "    </tr>\n",
       "    <tr>\n",
       "      <th>5</th>\n",
       "      <td>Borrow_Hirsch_Hipp</td>\n",
       "      <td>Neuchatel</td>\n",
       "      <td>Publication_Hirsch_Wundt</td>\n",
       "      <td>Leipzig</td>\n",
       "      <td>Letter_Wundt_Claparède</td>\n",
       "      <td>Leipzig</td>\n",
       "    </tr>\n",
       "    <tr>\n",
       "      <th>6</th>\n",
       "      <td>Publication_Hirsch_Wundt</td>\n",
       "      <td>Leipzig</td>\n",
       "      <td>Letter_Wundt_Claparède</td>\n",
       "      <td>Leipzig</td>\n",
       "      <td></td>\n",
       "      <td></td>\n",
       "    </tr>\n",
       "    <tr>\n",
       "      <th>7</th>\n",
       "      <td>Publication_Hirsch_Wundt</td>\n",
       "      <td>Leipzig</td>\n",
       "      <td>Letter_Wundt_Claparède</td>\n",
       "      <td>Genève</td>\n",
       "      <td></td>\n",
       "      <td></td>\n",
       "    </tr>\n",
       "  </tbody>\n",
       "</table>\n",
       "</div>"
      ],
      "text/plain": [
       "               \"previous_event\"   \"first_link_place\"   \\\n",
       "0                                                       \n",
       "1  Purchase_Eisenlohr_Wheatstone            Karlsruhe   \n",
       "2         Meeting_Hipp_Eisenlohr            Karlsruhe   \n",
       "3      Creation_Hipp_Chronoscope            Neuchatel   \n",
       "4             Borrow_Hirsch_Hipp            Neuchatel   \n",
       "5             Borrow_Hirsch_Hipp            Neuchatel   \n",
       "6       Publication_Hirsch_Wundt              Leipzig   \n",
       "7       Publication_Hirsch_Wundt              Leipzig   \n",
       "\n",
       "                        \"event\"   \"event_place\"         \"influenced_event\"   \\\n",
       "0  Purchase_Eisenlohr_Wheatstone       Karlsruhe     Meeting_Hipp_Eisenlohr   \n",
       "1         Meeting_Hipp_Eisenlohr       Karlsruhe  Creation_Hipp_Chronoscope   \n",
       "2      Creation_Hipp_Chronoscope       Neuchatel         Borrow_Hirsch_Hipp   \n",
       "3             Borrow_Hirsch_Hipp       Neuchatel   Publication_Hirsch_Wundt   \n",
       "4       Publication_Hirsch_Wundt       Neuchatel     Letter_Wundt_Claparède   \n",
       "5       Publication_Hirsch_Wundt         Leipzig     Letter_Wundt_Claparède   \n",
       "6         Letter_Wundt_Claparède         Leipzig                              \n",
       "7         Letter_Wundt_Claparède          Genève                              \n",
       "\n",
       "   \"second_link_place\"   \n",
       "0             Karlsruhe  \n",
       "1             Neuchatel  \n",
       "2             Neuchatel  \n",
       "3             Neuchatel  \n",
       "4               Leipzig  \n",
       "5               Leipzig  \n",
       "6                        \n",
       "7                        "
      ]
     },
     "execution_count": 48,
     "metadata": {},
     "output_type": "execute_result"
    }
   ],
   "source": [
    "names_df"
   ]
  },
  {
   "cell_type": "code",
   "execution_count": 49,
   "metadata": {},
   "outputs": [],
   "source": [
    "geolocator = Nominatim(user_agent=\"Hipp\")\n",
    "\n",
    "def get_coord(text):\n",
    "    try:\n",
    "        coord = geolocator.geocode(place)\n",
    "    except: \n",
    "        try:\n",
    "            coord = geolocator.geocode(place)\n",
    "        except:\n",
    "            return None\n",
    "    \n",
    "    return str(coord.latitude) + \", \" + str(coord.longitude)"
   ]
  },
  {
   "cell_type": "code",
   "execution_count": 50,
   "metadata": {},
   "outputs": [],
   "source": [
    "names_df = names_df.rename(columns=lambda x : x.strip(\" \").strip('\"'))\n",
    "places = names_df[[\"first_link_place\",\"event_place\",\"second_link_place\"]].stack().unique()"
   ]
  },
  {
   "cell_type": "code",
   "execution_count": 55,
   "metadata": {},
   "outputs": [
    {
     "name": "stdout",
     "output_type": "stream",
     "text": [
      "Karlsruhe\n",
      "Neuchatel\n",
      "Leipzig\n",
      "Genève\n"
     ]
    }
   ],
   "source": [
    "dict_coords = {}\n",
    "\n",
    "for place in places:\n",
    "    if len(place) > 0:\n",
    "        print(place)\n",
    "        dict_coords[place] = get_coord(place)"
   ]
  },
  {
   "cell_type": "code",
   "execution_count": 56,
   "metadata": {},
   "outputs": [
    {
     "data": {
      "text/plain": [
       "{'Karlsruhe': '49.0068705, 8.4034195',\n",
       " 'Neuchatel': '46.9895828, 6.9292641',\n",
       " 'Leipzig': '51.3406321, 12.3747329',\n",
       " 'Genève': '46.2017559, 6.1466014'}"
      ]
     },
     "execution_count": 56,
     "metadata": {},
     "output_type": "execute_result"
    }
   ],
   "source": [
    "dict_coords"
   ]
  },
  {
   "cell_type": "code",
   "execution_count": 66,
   "metadata": {},
   "outputs": [],
   "source": [
    "coords_df = names_df[[\"first_link_place\",\"event_place\",\"second_link_place\"]].applymap(lambda text : dict_coords.get(text))"
   ]
  },
  {
   "cell_type": "code",
   "execution_count": 68,
   "metadata": {},
   "outputs": [],
   "source": [
    "labelled_coords_df =\\\n",
    "pd.merge(names_df[[\"previous_event\",\"event\",\"influenced_event\"]], coords_df, left_index = True, right_index = True)"
   ]
  },
  {
   "cell_type": "code",
   "execution_count": 85,
   "metadata": {},
   "outputs": [],
   "source": [
    "final_df = pd.concat(\\\n",
    "                     (labelled_coords_df[[\"previous_event\",\"first_link_place\",\"event\",\"event_place\"]].\\\n",
    "                      rename(columns = {\"previous_event\":\"init_event\",\"first_link_place\":\"init_place\",\\\n",
    "                             \"event\":\"target_event\",\"event_place\":\"target_place\"}),\\\n",
    "                     labelled_coords_df[[\"event\",\"event_place\",\"influenced_event\",\"second_link_place\"]].\\\n",
    "                     rename(columns = {\"event\":\"init_event\",\"event_place\":\"init_place\",\\\n",
    "                             \"influenced_event\":\"target_event\",\"second_link_place\":\"target_place\"})),\\\n",
    "                     axis = 0).dropna()"
   ]
  },
  {
   "cell_type": "code",
   "execution_count": 86,
   "metadata": {},
   "outputs": [
    {
     "data": {
      "text/html": [
       "<div>\n",
       "<style scoped>\n",
       "    .dataframe tbody tr th:only-of-type {\n",
       "        vertical-align: middle;\n",
       "    }\n",
       "\n",
       "    .dataframe tbody tr th {\n",
       "        vertical-align: top;\n",
       "    }\n",
       "\n",
       "    .dataframe thead th {\n",
       "        text-align: right;\n",
       "    }\n",
       "</style>\n",
       "<table border=\"1\" class=\"dataframe\">\n",
       "  <thead>\n",
       "    <tr style=\"text-align: right;\">\n",
       "      <th></th>\n",
       "      <th>init_event</th>\n",
       "      <th>init_place</th>\n",
       "      <th>target_event</th>\n",
       "      <th>target_place</th>\n",
       "    </tr>\n",
       "  </thead>\n",
       "  <tbody>\n",
       "    <tr>\n",
       "      <th>1</th>\n",
       "      <td>Purchase_Eisenlohr_Wheatstone</td>\n",
       "      <td>49.0068705, 8.4034195</td>\n",
       "      <td>Meeting_Hipp_Eisenlohr</td>\n",
       "      <td>49.0068705, 8.4034195</td>\n",
       "    </tr>\n",
       "    <tr>\n",
       "      <th>2</th>\n",
       "      <td>Meeting_Hipp_Eisenlohr</td>\n",
       "      <td>49.0068705, 8.4034195</td>\n",
       "      <td>Creation_Hipp_Chronoscope</td>\n",
       "      <td>46.9895828, 6.9292641</td>\n",
       "    </tr>\n",
       "    <tr>\n",
       "      <th>3</th>\n",
       "      <td>Creation_Hipp_Chronoscope</td>\n",
       "      <td>46.9895828, 6.9292641</td>\n",
       "      <td>Borrow_Hirsch_Hipp</td>\n",
       "      <td>46.9895828, 6.9292641</td>\n",
       "    </tr>\n",
       "    <tr>\n",
       "      <th>4</th>\n",
       "      <td>Borrow_Hirsch_Hipp</td>\n",
       "      <td>46.9895828, 6.9292641</td>\n",
       "      <td>Publication_Hirsch_Wundt</td>\n",
       "      <td>46.9895828, 6.9292641</td>\n",
       "    </tr>\n",
       "    <tr>\n",
       "      <th>5</th>\n",
       "      <td>Borrow_Hirsch_Hipp</td>\n",
       "      <td>46.9895828, 6.9292641</td>\n",
       "      <td>Publication_Hirsch_Wundt</td>\n",
       "      <td>51.3406321, 12.3747329</td>\n",
       "    </tr>\n",
       "    <tr>\n",
       "      <th>6</th>\n",
       "      <td>Publication_Hirsch_Wundt</td>\n",
       "      <td>51.3406321, 12.3747329</td>\n",
       "      <td>Letter_Wundt_Claparède</td>\n",
       "      <td>51.3406321, 12.3747329</td>\n",
       "    </tr>\n",
       "    <tr>\n",
       "      <th>7</th>\n",
       "      <td>Publication_Hirsch_Wundt</td>\n",
       "      <td>51.3406321, 12.3747329</td>\n",
       "      <td>Letter_Wundt_Claparède</td>\n",
       "      <td>46.2017559, 6.1466014</td>\n",
       "    </tr>\n",
       "    <tr>\n",
       "      <th>0</th>\n",
       "      <td>Purchase_Eisenlohr_Wheatstone</td>\n",
       "      <td>49.0068705, 8.4034195</td>\n",
       "      <td>Meeting_Hipp_Eisenlohr</td>\n",
       "      <td>49.0068705, 8.4034195</td>\n",
       "    </tr>\n",
       "    <tr>\n",
       "      <th>1</th>\n",
       "      <td>Meeting_Hipp_Eisenlohr</td>\n",
       "      <td>49.0068705, 8.4034195</td>\n",
       "      <td>Creation_Hipp_Chronoscope</td>\n",
       "      <td>46.9895828, 6.9292641</td>\n",
       "    </tr>\n",
       "    <tr>\n",
       "      <th>2</th>\n",
       "      <td>Creation_Hipp_Chronoscope</td>\n",
       "      <td>46.9895828, 6.9292641</td>\n",
       "      <td>Borrow_Hirsch_Hipp</td>\n",
       "      <td>46.9895828, 6.9292641</td>\n",
       "    </tr>\n",
       "    <tr>\n",
       "      <th>3</th>\n",
       "      <td>Borrow_Hirsch_Hipp</td>\n",
       "      <td>46.9895828, 6.9292641</td>\n",
       "      <td>Publication_Hirsch_Wundt</td>\n",
       "      <td>46.9895828, 6.9292641</td>\n",
       "    </tr>\n",
       "    <tr>\n",
       "      <th>4</th>\n",
       "      <td>Publication_Hirsch_Wundt</td>\n",
       "      <td>46.9895828, 6.9292641</td>\n",
       "      <td>Letter_Wundt_Claparède</td>\n",
       "      <td>51.3406321, 12.3747329</td>\n",
       "    </tr>\n",
       "    <tr>\n",
       "      <th>5</th>\n",
       "      <td>Publication_Hirsch_Wundt</td>\n",
       "      <td>51.3406321, 12.3747329</td>\n",
       "      <td>Letter_Wundt_Claparède</td>\n",
       "      <td>51.3406321, 12.3747329</td>\n",
       "    </tr>\n",
       "  </tbody>\n",
       "</table>\n",
       "</div>"
      ],
      "text/plain": [
       "                      init_event              init_place  \\\n",
       "1  Purchase_Eisenlohr_Wheatstone   49.0068705, 8.4034195   \n",
       "2         Meeting_Hipp_Eisenlohr   49.0068705, 8.4034195   \n",
       "3      Creation_Hipp_Chronoscope   46.9895828, 6.9292641   \n",
       "4             Borrow_Hirsch_Hipp   46.9895828, 6.9292641   \n",
       "5             Borrow_Hirsch_Hipp   46.9895828, 6.9292641   \n",
       "6       Publication_Hirsch_Wundt  51.3406321, 12.3747329   \n",
       "7       Publication_Hirsch_Wundt  51.3406321, 12.3747329   \n",
       "0  Purchase_Eisenlohr_Wheatstone   49.0068705, 8.4034195   \n",
       "1         Meeting_Hipp_Eisenlohr   49.0068705, 8.4034195   \n",
       "2      Creation_Hipp_Chronoscope   46.9895828, 6.9292641   \n",
       "3             Borrow_Hirsch_Hipp   46.9895828, 6.9292641   \n",
       "4       Publication_Hirsch_Wundt   46.9895828, 6.9292641   \n",
       "5       Publication_Hirsch_Wundt  51.3406321, 12.3747329   \n",
       "\n",
       "                target_event            target_place  \n",
       "1     Meeting_Hipp_Eisenlohr   49.0068705, 8.4034195  \n",
       "2  Creation_Hipp_Chronoscope   46.9895828, 6.9292641  \n",
       "3         Borrow_Hirsch_Hipp   46.9895828, 6.9292641  \n",
       "4   Publication_Hirsch_Wundt   46.9895828, 6.9292641  \n",
       "5   Publication_Hirsch_Wundt  51.3406321, 12.3747329  \n",
       "6     Letter_Wundt_Claparède  51.3406321, 12.3747329  \n",
       "7     Letter_Wundt_Claparède   46.2017559, 6.1466014  \n",
       "0     Meeting_Hipp_Eisenlohr   49.0068705, 8.4034195  \n",
       "1  Creation_Hipp_Chronoscope   46.9895828, 6.9292641  \n",
       "2         Borrow_Hirsch_Hipp   46.9895828, 6.9292641  \n",
       "3   Publication_Hirsch_Wundt   46.9895828, 6.9292641  \n",
       "4     Letter_Wundt_Claparède  51.3406321, 12.3747329  \n",
       "5     Letter_Wundt_Claparède  51.3406321, 12.3747329  "
      ]
     },
     "execution_count": 86,
     "metadata": {},
     "output_type": "execute_result"
    }
   ],
   "source": [
    "final_df"
   ]
  },
  {
   "cell_type": "code",
   "execution_count": 87,
   "metadata": {},
   "outputs": [],
   "source": [
    "final_df.to_csv(\"data/influence_processed.csv\")"
   ]
  },
  {
   "cell_type": "code",
   "execution_count": null,
   "metadata": {},
   "outputs": [],
   "source": []
  }
 ],
 "metadata": {
  "kernelspec": {
   "display_name": "Python 3",
   "language": "python",
   "name": "python3"
  },
  "language_info": {
   "codemirror_mode": {
    "name": "ipython",
    "version": 3
   },
   "file_extension": ".py",
   "mimetype": "text/x-python",
   "name": "python",
   "nbconvert_exporter": "python",
   "pygments_lexer": "ipython3",
   "version": "3.7.1"
  }
 },
 "nbformat": 4,
 "nbformat_minor": 2
}
